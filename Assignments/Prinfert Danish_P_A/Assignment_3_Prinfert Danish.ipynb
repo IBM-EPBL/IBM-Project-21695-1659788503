{
 "cells": [
  {
   "cell_type": "markdown",
   "metadata": {
    "id": "hjX4SahI3mR2"
   },
   "source": [
    "# **1. Download the Dataset**"
   ]
  },
  {
   "cell_type": "markdown",
   "metadata": {
    "id": "fDOkA0Ac4IzI"
   },
   "source": [
    " The dataset is successfully downloaded."
   ]
  },
  {
   "cell_type": "markdown",
   "metadata": {
    "id": "UoQMSFuH4O5o"
   },
   "source": [
    "# **2. Image Augmentation**"
   ]
  },
  {
   "cell_type": "code",
   "execution_count": 1,
   "metadata": {
    "id": "CbeCj7oC4Mw6"
   },
   "outputs": [],
   "source": [
    "from tensorflow.keras.preprocessing.image import ImageDataGenerator\n",
    "from matplotlib.pyplot import imread,imshow,subplots,show\n",
    "import numpy as np\n",
    "import os\n",
    "from PIL import Image\n",
    "from skimage import io"
   ]
  },
  {
   "cell_type": "code",
   "execution_count": 2,
   "metadata": {
    "id": "Pu0JXBGQ4gvh"
   },
   "outputs": [],
   "source": [
    "train_data=ImageDataGenerator(rescale=1./255,zoom_range=0.2,horizontal_flip=True)"
   ]
  },
  {
   "cell_type": "code",
   "execution_count": 3,
   "metadata": {
    "id": "SzttSRGR4nUi"
   },
   "outputs": [],
   "source": [
    "test_data=ImageDataGenerator(rescale=1./255)"
   ]
  },
  {
   "cell_type": "code",
   "execution_count": 4,
   "metadata": {
    "colab": {
     "base_uri": "https://localhost:8080/",
     "height": 415
    },
    "id": "s9fHWSGt4qEd",
    "outputId": "127fbbeb-f46b-473f-e40f-90ee37ec2989"
   },
   "outputs": [
    {
     "name": "stdout",
     "output_type": "stream",
     "text": [
      "Found 4317 images belonging to 5 classes.\n"
     ]
    }
   ],
   "source": [
    "xtrain=train_data.flow_from_directory('flowers/',\n",
    "                                      target_size=(64,64),\n",
    "                                      class_mode='categorical',\n",
    "                                      batch_size=100)"
   ]
  },
  {
   "cell_type": "code",
   "execution_count": 5,
   "metadata": {
    "id": "9lIdVQ625MM9"
   },
   "outputs": [
    {
     "name": "stdout",
     "output_type": "stream",
     "text": [
      "Found 4317 images belonging to 5 classes.\n"
     ]
    }
   ],
   "source": [
    "xtest=test_data.flow_from_directory('flowers/',\n",
    "                                         target_size=(64,64),\n",
    "                                         class_mode='categorical',\n",
    "                                         batch_size=100)"
   ]
  },
  {
   "cell_type": "markdown",
   "metadata": {},
   "source": [
    "# **3. Creating CNN Model**"
   ]
  },
  {
   "cell_type": "code",
   "execution_count": 6,
   "metadata": {},
   "outputs": [],
   "source": [
    "from tensorflow.keras.models import Sequential\n",
    "from tensorflow.keras.layers import Convolution2D,MaxPooling2D,Flatten,Dense"
   ]
  },
  {
   "cell_type": "markdown",
   "metadata": {},
   "source": [
    "# **4. Add Layers (Convolution,MaxPooling,Flatten,Dense-(HiddenLayers),Output)**"
   ]
  },
  {
   "cell_type": "code",
   "execution_count": 7,
   "metadata": {},
   "outputs": [],
   "source": [
    "model=Sequential()\n",
    "model.add(Convolution2D(32,(3,3),activation='relu',input_shape=(64,64,3)))\n",
    "model.add(MaxPooling2D(pool_size=(2,2)))\n",
    "model.add(Flatten())\n",
    "model.add(Dense(300,activation='relu'))\n",
    "model.add(Dense(150,activation='relu'))\n",
    "model.add(Dense(5,activation='softmax'))"
   ]
  },
  {
   "cell_type": "markdown",
   "metadata": {},
   "source": [
    "# **5. Compile the Model**"
   ]
  },
  {
   "cell_type": "code",
   "execution_count": 8,
   "metadata": {},
   "outputs": [],
   "source": [
    "model.compile(optimizer='adam',loss='categorical_crossentropy',metrics=['accuracy'])\n"
   ]
  },
  {
   "cell_type": "markdown",
   "metadata": {},
   "source": [
    "# **6. Fit the Model**"
   ]
  },
  {
   "cell_type": "code",
   "execution_count": 11,
   "metadata": {},
   "outputs": [
    {
     "name": "stdout",
     "output_type": "stream",
     "text": [
      "Epoch 1/15\n",
      "44/44 [==============================] - 23s 526ms/step - loss: 0.2219 - accuracy: 0.9268 - val_loss: 0.1695 - val_accuracy: 0.9400\n",
      "Epoch 2/15\n",
      "44/44 [==============================] - 23s 524ms/step - loss: 0.2288 - accuracy: 0.9224 - val_loss: 0.1457 - val_accuracy: 0.9523\n",
      "Epoch 3/15\n",
      "44/44 [==============================] - 23s 524ms/step - loss: 0.2084 - accuracy: 0.9287 - val_loss: 0.1748 - val_accuracy: 0.9393\n",
      "Epoch 4/15\n",
      "44/44 [==============================] - 23s 528ms/step - loss: 0.1890 - accuracy: 0.9333 - val_loss: 0.1444 - val_accuracy: 0.9493\n",
      "Epoch 5/15\n",
      "44/44 [==============================] - 23s 537ms/step - loss: 0.1985 - accuracy: 0.9307 - val_loss: 0.4471 - val_accuracy: 0.8548\n",
      "Epoch 6/15\n",
      "44/44 [==============================] - 23s 527ms/step - loss: 0.2274 - accuracy: 0.9226 - val_loss: 0.1483 - val_accuracy: 0.9500\n",
      "Epoch 7/15\n",
      "44/44 [==============================] - 23s 528ms/step - loss: 0.1865 - accuracy: 0.9384 - val_loss: 0.1305 - val_accuracy: 0.9534\n",
      "Epoch 8/15\n",
      "44/44 [==============================] - 23s 531ms/step - loss: 0.1665 - accuracy: 0.9437 - val_loss: 0.1772 - val_accuracy: 0.9400\n",
      "Epoch 9/15\n",
      "44/44 [==============================] - 23s 527ms/step - loss: 0.1788 - accuracy: 0.9412 - val_loss: 0.1038 - val_accuracy: 0.9629\n",
      "Epoch 10/15\n",
      "44/44 [==============================] - 23s 525ms/step - loss: 0.1771 - accuracy: 0.9384 - val_loss: 0.2151 - val_accuracy: 0.9270\n",
      "Epoch 11/15\n",
      "44/44 [==============================] - 23s 535ms/step - loss: 0.1927 - accuracy: 0.9354 - val_loss: 0.1157 - val_accuracy: 0.9590\n",
      "Epoch 12/15\n",
      "44/44 [==============================] - 23s 531ms/step - loss: 0.1430 - accuracy: 0.9514 - val_loss: 0.1117 - val_accuracy: 0.9590\n",
      "Epoch 13/15\n",
      "44/44 [==============================] - 23s 526ms/step - loss: 0.1385 - accuracy: 0.9525 - val_loss: 0.1075 - val_accuracy: 0.9592\n",
      "Epoch 14/15\n",
      "44/44 [==============================] - 23s 526ms/step - loss: 0.1385 - accuracy: 0.9511 - val_loss: 0.0608 - val_accuracy: 0.9812\n",
      "Epoch 15/15\n",
      "44/44 [==============================] - 24s 546ms/step - loss: 0.1144 - accuracy: 0.9641 - val_loss: 0.0841 - val_accuracy: 0.9727\n"
     ]
    },
    {
     "data": {
      "text/plain": [
       "<keras.callbacks.History at 0x211180f0f70>"
      ]
     },
     "execution_count": 11,
     "metadata": {},
     "output_type": "execute_result"
    }
   ],
   "source": [
    "model.fit(xtrain,steps_per_epoch=len(xtrain),\n",
    "          epochs=15,validation_data=xtest,validation_steps=len(xtest))"
   ]
  },
  {
   "cell_type": "markdown",
   "metadata": {},
   "source": [
    "# **7. Save the Model**"
   ]
  },
  {
   "cell_type": "code",
   "execution_count": 12,
   "metadata": {},
   "outputs": [],
   "source": [
    "model.save('flowers.h5')"
   ]
  },
  {
   "cell_type": "markdown",
   "metadata": {},
   "source": [
    "# **8. Test the Model**"
   ]
  },
  {
   "cell_type": "code",
   "execution_count": 13,
   "metadata": {},
   "outputs": [],
   "source": [
    "from tensorflow.keras.preprocessing import image\n",
    "import numpy as np"
   ]
  },
  {
   "cell_type": "markdown",
   "metadata": {},
   "source": [
    "### Testing : Rose Image"
   ]
  },
  {
   "cell_type": "code",
   "execution_count": 36,
   "metadata": {},
   "outputs": [
    {
     "name": "stdout",
     "output_type": "stream",
     "text": [
      "1/1 [==============================] - 0s 21ms/step\n"
     ]
    },
    {
     "data": {
      "text/plain": [
       "'rose'"
      ]
     },
     "execution_count": 36,
     "metadata": {},
     "output_type": "execute_result"
    }
   ],
   "source": [
    "fl_img='imagetest1.jpg' \n",
    "img=image.load_img(fl_img,target_size=(64,64))\n",
    "x=image.img_to_array(img)\n",
    "x=np.expand_dims(x,axis=0)\n",
    "pred=np.argmax(model.predict(x))\n",
    "op=['daisy','dandelion','rose','sunflower','tulip']\n",
    "op[pred]"
   ]
  },
  {
   "cell_type": "code",
   "execution_count": 37,
   "metadata": {},
   "outputs": [
    {
     "data": {
      "image/png": "[encoded data removed]",
      "text/plain": [
       "<PIL.Image.Image image mode=RGB size=64x64 at 0x211181D3520>"
      ]
     },
     "execution_count": 37,
     "metadata": {},
     "output_type": "execute_result"
    }
   ],
   "source": [
    "img"
   ]
  },
  {
   "cell_type": "markdown",
   "metadata": {},
   "source": [
    "### Testing : Daisy Image"
   ]
  },
  {
   "cell_type": "code",
   "execution_count": 39,
   "metadata": {},
   "outputs": [
    {
     "name": "stdout",
     "output_type": "stream",
     "text": [
      "1/1 [==============================] - 0s 21ms/step\n"
     ]
    },
    {
     "data": {
      "text/plain": [
       "'daisy'"
      ]
     },
     "execution_count": 39,
     "metadata": {},
     "output_type": "execute_result"
    }
   ],
   "source": [
    "fl_img='imagetest3.jpg'\n",
    "img=image.load_img(fl_img,target_size=(64,64))\n",
    "x=image.img_to_array(img)\n",
    "x=np.expand_dims(x,axis=0)\n",
    "pred=np.argmax(model.predict(x))\n",
    "op=['daisy','dandelion','rose','sunflower','tulip']\n",
    "op[pred]"
   ]
  },
  {
   "cell_type": "code",
   "execution_count": 40,
   "metadata": {},
   "outputs": [
    {
     "data": {
      "image/png": "[encoded data removed]",
      "text/plain": [
       "<PIL.Image.Image image mode=RGB size=64x64 at 0x21121A9E940>"
      ]
     },
     "execution_count": 40,
     "metadata": {},
     "output_type": "execute_result"
    }
   ],
   "source": [
    "img"
   ]
  },
  {
   "cell_type": "markdown",
   "metadata": {},
   "source": [
    "### Testing : Dandelion Image"
   ]
  },
  {
   "cell_type": "code",
   "execution_count": 43,
   "metadata": {},
   "outputs": [
    {
     "name": "stdout",
     "output_type": "stream",
     "text": [
      "1/1 [==============================] - 0s 19ms/step\n"
     ]
    },
    {
     "data": {
      "text/plain": [
       "'dandelion'"
      ]
     },
     "execution_count": 43,
     "metadata": {},
     "output_type": "execute_result"
    }
   ],
   "source": [
    "fl_img='imagetest4.jpg'\n",
    "img=image.load_img(fl_img,target_size=(64,64))\n",
    "x=image.img_to_array(img)\n",
    "x=np.expand_dims(x,axis=0)\n",
    "pred=np.argmax(model.predict(x))\n",
    "op=['daisy','dandelion','rose','sunflower','tulip']\n",
    "op[pred]"
   ]
  },
  {
   "cell_type": "code",
   "execution_count": 44,
   "metadata": {},
   "outputs": [
    {
     "data": {
      "image/png": "[encoded data removed]",
      "text/plain": [
       "<PIL.Image.Image image mode=RGB size=64x64 at 0x21121A26190>"
      ]
     },
     "execution_count": 44,
     "metadata": {},
     "output_type": "execute_result"
    }
   ],
   "source": [
    "img"
   ]
  },
  {
   "cell_type": "markdown",
   "metadata": {},
   "source": [
    "### Testing : Sunflower Image"
   ]
  },
  {
   "cell_type": "code",
   "execution_count": 45,
   "metadata": {},
   "outputs": [
    {
     "name": "stdout",
     "output_type": "stream",
     "text": [
      "1/1 [==============================] - 0s 20ms/step\n"
     ]
    },
    {
     "data": {
      "text/plain": [
       "'sunflower'"
      ]
     },
     "execution_count": 45,
     "metadata": {},
     "output_type": "execute_result"
    }
   ],
   "source": [
    "fl_img='imagetest5.jpg'\n",
    "img=image.load_img(fl_img,target_size=(64,64))\n",
    "x=image.img_to_array(img)\n",
    "x=np.expand_dims(x,axis=0)\n",
    "pred=np.argmax(model.predict(x))\n",
    "op=['daisy','dandelion','rose','sunflower','tulip']\n",
    "op[pred]"
   ]
  },
  {
   "cell_type": "code",
   "execution_count": 47,
   "metadata": {},
   "outputs": [
    {
     "data": {
      "image/png": "[encoded data removed]",
      "text/plain": [
       "<PIL.Image.Image image mode=RGB size=64x64 at 0x21121994B80>"
      ]
     },
     "execution_count": 47,
     "metadata": {},
     "output_type": "execute_result"
    }
   ],
   "source": [
    "img"
   ]
  },
  {
   "cell_type": "markdown",
   "metadata": {},
   "source": [
    "### Testing : Tulip Image"
   ]
  },
  {
   "cell_type": "code",
   "execution_count": 42,
   "metadata": {},
   "outputs": [
    {
     "name": "stdout",
     "output_type": "stream",
     "text": [
      "1/1 [==============================] - 0s 20ms/step\n"
     ]
    },
    {
     "data": {
      "text/plain": [
       "'tulip'"
      ]
     },
     "execution_count": 42,
     "metadata": {},
     "output_type": "execute_result"
    }
   ],
   "source": [
    "fl_img='imagetest6.jpg'\n",
    "img=image.load_img(fl_img,target_size=(64,64))\n",
    "x=image.img_to_array(img)\n",
    "x=np.expand_dims(x,axis=0)\n",
    "pred=np.argmax(model.predict(x))\n",
    "op=['daisy','dandelion','rose','sunflower','tulip']\n",
    "op[pred]"
   ]
  },
  {
   "cell_type": "code",
   "execution_count": 48,
   "metadata": {},
   "outputs": [
    {
     "data": {
      "image/png": "[encoded data removed]",
      "text/plain": [
       "<PIL.Image.Image image mode=RGB size=64x64 at 0x21121994B80>"
      ]
     },
     "execution_count": 48,
     "metadata": {},
     "output_type": "execute_result"
    }
   ],
   "source": [
    "img"
   ]
  }
 ],
 "metadata": {
  "colab": {
   "provenance": []
  },
  "kernelspec": {
   "display_name": "Python 3",
   "language": "python",
   "name": "python3"
  },
  "language_info": {
   "codemirror_mode": {
    "name": "ipython",
    "version": 3
   },
   "file_extension": ".py",
   "mimetype": "text/x-python",
   "name": "python",
   "nbconvert_exporter": "python",
   "pygments_lexer": "ipython3",
   "version": "3.8.5"
  }
 },
 "nbformat": 4,
 "nbformat_minor": 1
}
